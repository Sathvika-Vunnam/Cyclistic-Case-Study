{
  "nbformat": 4,
  "nbformat_minor": 0,
  "metadata": {
    "colab": {
      "provenance": [],
      "authorship_tag": "ABX9TyMPHB/I/JbrfrRJP0gxu9tC",
      "include_colab_link": true
    },
    "kernelspec": {
      "name": "python3",
      "display_name": "Python 3"
    },
    "language_info": {
      "name": "python"
    }
  },
  "cells": [
    {
      "cell_type": "markdown",
      "metadata": {
        "id": "view-in-github",
        "colab_type": "text"
      },
      "source": [
        "<a href=\"https://colab.research.google.com/github/Sathvika-Vunnam/Cyclistic-Case-Study/blob/main/Cyclistic_Case_Study.ipynb\" target=\"_parent\"><img src=\"https://colab.research.google.com/assets/colab-badge.svg\" alt=\"Open In Colab\"/></a>"
      ]
    },
    {
      "cell_type": "code",
      "execution_count": null,
      "metadata": {
        "id": "-1LuXB6ONMD1"
      },
      "outputs": [],
      "source": []
    },
    {
      "cell_type": "code",
      "source": [
        "import pandas as pd\n",
        "import matplotlib.pyplot as plt\n",
        "import numpy as np\n",
        "import seaborn as sns\n",
        "import datetime"
      ],
      "metadata": {
        "id": "SHypR1K9NUCC"
      },
      "execution_count": null,
      "outputs": []
    },
    {
      "cell_type": "code",
      "source": [
        "sns.set_palette(\"Set2\")"
      ],
      "metadata": {
        "id": "4tTUw33XNf0Q"
      },
      "execution_count": null,
      "outputs": []
    },
    {
      "cell_type": "code",
      "source": [
        "july_2020_df = pd.read_csv(\"202006-divvy-tripdata[1].csv\")\n",
        "august_2020_df = pd.read_csv(\"202007-divvy-tripdata[1].csv\")\n",
        "september_2020_df = pd.read_csv(\"202008-divvy-tripdata[1].csv\")\n",
        "october_2020_df = pd.read_csv(\"202009-divvy-tripdata[1].csv\")\n",
        "november_2020_df = pd.read_csv(\"202010-divvy-tripdata[1].csv\")\n",
        "december_2020_df = pd.read_csv(\"202011-divvy-tripdata[1].csv\")\n",
        "january_2021_df = pd.read_csv(\"202012-divvy-tripdata[1].csv\")\n",
        "february_2021_df = pd.read_csv(\"202101-divvy-tripdata[1].csv\")\n",
        "march_2021_df = pd.read_csv(\"202102-divvy-tripdata[1].csv\")\n",
        "april_2021_df = pd.read_csv(\"202103-divvy-tripdata[1].csv\")\n",
        "may_2021_df = pd.read_csv(\"202104-divvy-tripdata[1].csv\")\n",
        "june_2021_df = pd.read_csv(\"202105-divvy-tripdata[1].csv\")"
      ],
      "metadata": {
        "id": "VcsycNVANiA_"
      },
      "execution_count": null,
      "outputs": []
    },
    {
      "cell_type": "code",
      "source": [
        "#create a list of dataframes\n",
        "frames = [\n",
        "    july_2020_df,\n",
        "    august_2020_df,\n",
        "    september_2020_df,\n",
        "    october_2020_df,\n",
        "    november_2020_df,\n",
        "    december_2020_df,\n",
        "    january_2021_df,\n",
        "    february_2021_df,\n",
        "    march_2021_df,\n",
        "    april_2021_df,\n",
        "    may_2021_df,\n",
        "    june_2021_df,\n",
        "]"
      ],
      "metadata": {
        "id": "07bksiXHTPlF"
      },
      "execution_count": null,
      "outputs": []
    },
    {
      "cell_type": "code",
      "source": [
        "#Check the no.of columns for all the dataframes\n",
        "num_cols = []"
      ],
      "metadata": {
        "id": "S6N4ulsPWGTW"
      },
      "execution_count": null,
      "outputs": []
    },
    {
      "cell_type": "code",
      "source": [
        "def verify_num_of_cols(frames):\n",
        "    for frame in frames:\n",
        "        num_cols.append(len(frame.columns))\n",
        "    return num_cols"
      ],
      "metadata": {
        "id": "2o1H5QhPWTAj"
      },
      "execution_count": null,
      "outputs": []
    },
    {
      "cell_type": "code",
      "source": [
        "# print(verify_num_of_cols(frames=frames))"
      ],
      "metadata": {
        "id": "5xK_uEkJWYqs"
      },
      "execution_count": null,
      "outputs": []
    },
    {
      "cell_type": "code",
      "source": [
        "#Create a single dataframe that combines the 12 dataframes\n",
        "df = pd.concat(frames, axis=0, ignore_index=True)\n",
        "print(df.columns)"
      ],
      "metadata": {
        "colab": {
          "base_uri": "https://localhost:8080/"
        },
        "id": "qSilhtF7WmvP",
        "outputId": "f12b167e-b206-4cc7-d580-15803d6a5df4"
      },
      "execution_count": null,
      "outputs": [
        {
          "output_type": "stream",
          "name": "stdout",
          "text": [
            "Index(['ride_id', 'rideable_type', 'started_at', 'ended_at',\n",
            "       'start_station_name', 'start_station_id', 'end_station_name',\n",
            "       'end_station_id', 'start_lat', 'start_lng', 'end_lat', 'end_lng',\n",
            "       'member_casual'],\n",
            "      dtype='object')\n"
          ]
        }
      ]
    },
    {
      "cell_type": "code",
      "source": [
        "# Summary of the data\n",
        "print(df.head(10))\n",
        "print(df.info())"
      ],
      "metadata": {
        "colab": {
          "base_uri": "https://localhost:8080/"
        },
        "id": "53jYt45TWnlm",
        "outputId": "1ee62f94-7e5c-45a0-aa87-c94f36af0165"
      },
      "execution_count": null,
      "outputs": [
        {
          "output_type": "stream",
          "name": "stdout",
          "text": [
            "            ride_id rideable_type           started_at             ended_at  \\\n",
            "0  8CD5DE2C2B6C4CFC   docked_bike  2020-06-13 23:24:48  2020-06-13 23:36:55   \n",
            "1  9A191EB2C751D85D   docked_bike  2020-06-26 07:26:10  2020-06-26 07:31:58   \n",
            "2  F37D14B0B5659BCF   docked_bike  2020-06-23 17:12:41  2020-06-23 17:21:14   \n",
            "3  C41237B506E85FA1   docked_bike  2020-06-20 01:09:35  2020-06-20 01:28:24   \n",
            "4  4B51B3B0BDA7787C   docked_bike  2020-06-25 16:59:25  2020-06-25 17:08:48   \n",
            "5  D50DF288196B53BE   docked_bike  2020-06-17 18:07:18  2020-06-17 18:18:14   \n",
            "6  165FA6D223E58600   docked_bike  2020-06-25 07:24:33  2020-06-25 07:31:11   \n",
            "7  D8236CFC050E591C   docked_bike  2020-06-19 00:00:56  2020-06-19 00:09:15   \n",
            "8  9D82B9B53C37C55C   docked_bike  2020-06-30 12:11:36  2020-06-30 12:32:43   \n",
            "9  3DFF4AB10A6895A3   docked_bike  2020-06-28 14:17:09  2020-06-28 14:27:51   \n",
            "\n",
            "               start_station_name start_station_id          end_station_name  \\\n",
            "0        Wilton Ave & Belmont Ave              117  Damen Ave & Clybourn Ave   \n",
            "1            Federal St & Polk St               41        Daley Center Plaza   \n",
            "2              Daley Center Plaza               81    State St & Harrison St   \n",
            "3         Broadway & Cornelia Ave              303     Broadway & Berwyn Ave   \n",
            "4     Sheffield Ave & Webster Ave              327  Wilton Ave & Belmont Ave   \n",
            "5     Sheffield Ave & Webster Ave              327  Wilton Ave & Belmont Ave   \n",
            "6            Federal St & Polk St               41        Daley Center Plaza   \n",
            "7  Sheffield Ave & Wellington Ave              115   Broadway & Cornelia Ave   \n",
            "8           Calumet Ave & 18th St              338     Franklin St & Lake St   \n",
            "9       Milwaukee Ave & Grand Ave               84       Wells St & Huron St   \n",
            "\n",
            "  end_station_id  start_lat  start_lng    end_lat    end_lng member_casual  \n",
            "0          163.0  41.940180 -87.653040  41.931931 -87.677856        casual  \n",
            "1           81.0  41.872077 -87.629543  41.884241 -87.629634        member  \n",
            "2            5.0  41.884241 -87.629634  41.874053 -87.627716        member  \n",
            "3          294.0  41.945529 -87.646439  41.978353 -87.659753        casual  \n",
            "4          117.0  41.921540 -87.653818  41.940180 -87.653040        casual  \n",
            "5          117.0  41.921540 -87.653818  41.940180 -87.653040        casual  \n",
            "6           81.0  41.872077 -87.629543  41.884241 -87.629634        member  \n",
            "7          303.0  41.936266 -87.652662  41.945529 -87.646439        casual  \n",
            "8          164.0  41.857611 -87.619407  41.885837 -87.635500        member  \n",
            "9           53.0  41.891578 -87.648384  41.894722 -87.634362        member  \n",
            "<class 'pandas.core.frame.DataFrame'>\n",
            "RangeIndex: 3094146 entries, 0 to 3094145\n",
            "Data columns (total 13 columns):\n",
            " #   Column              Dtype  \n",
            "---  ------              -----  \n",
            " 0   ride_id             object \n",
            " 1   rideable_type       object \n",
            " 2   started_at          object \n",
            " 3   ended_at            object \n",
            " 4   start_station_name  object \n",
            " 5   start_station_id    object \n",
            " 6   end_station_name    object \n",
            " 7   end_station_id      object \n",
            " 8   start_lat           float64\n",
            " 9   start_lng           float64\n",
            " 10  end_lat             float64\n",
            " 11  end_lng             float64\n",
            " 12  member_casual       object \n",
            "dtypes: float64(4), object(9)\n",
            "memory usage: 306.9+ MB\n",
            "None\n"
          ]
        }
      ]
    },
    {
      "cell_type": "markdown",
      "source": [
        "Data Cleaning"
      ],
      "metadata": {
        "id": "5Gxbos5MW3ef"
      }
    },
    {
      "cell_type": "code",
      "source": [
        "# Columns with missing values\n",
        "print(df.isnull().sum())"
      ],
      "metadata": {
        "colab": {
          "base_uri": "https://localhost:8080/"
        },
        "id": "l1IburSVWxN7",
        "outputId": "f17b6057-1c43-41d8-a8ee-107faa44ad40"
      },
      "execution_count": null,
      "outputs": [
        {
          "output_type": "stream",
          "name": "stdout",
          "text": [
            "ride_id                    0\n",
            "rideable_type              1\n",
            "started_at                 2\n",
            "ended_at                   2\n",
            "start_station_name    181052\n",
            "start_station_id      181533\n",
            "end_station_name      204878\n",
            "end_station_id        205233\n",
            "start_lat                  4\n",
            "start_lng                  4\n",
            "end_lat                 3518\n",
            "end_lng                 3518\n",
            "member_casual              4\n",
            "dtype: int64\n"
          ]
        }
      ]
    },
    {
      "cell_type": "code",
      "source": [
        "# Rows missing values\n",
        "print(df[df.isnull().any(axis=1)])"
      ],
      "metadata": {
        "colab": {
          "base_uri": "https://localhost:8080/"
        },
        "id": "Uguy6rz2W7Tq",
        "outputId": "fbde7438-4b6c-4d1a-c841-2790d39de92f"
      },
      "execution_count": null,
      "outputs": [
        {
          "output_type": "stream",
          "name": "stdout",
          "text": [
            "                  ride_id  rideable_type           started_at  \\\n",
            "800      8F5DC3FE5B22E480    docked_bike  2020-06-04 07:24:22   \n",
            "1266     9358687FAE5EEC17    docked_bike  2020-06-28 13:58:51   \n",
            "2354     5399B46884E18D40    docked_bike  2020-06-21 19:08:51   \n",
            "2492     EA8792DAAD74C5DA    docked_bike  2020-06-04 08:46:31   \n",
            "2957     69D0294D7C1727E8    docked_bike  2020-06-17 09:51:33   \n",
            "...                   ...            ...                  ...   \n",
            "3094139  A87018C1286BE8FC  electric_bike  2021-05-11 22:46:53   \n",
            "3094140  D0B8E59E2B3C406D  electric_bike  2021-05-02 17:48:17   \n",
            "3094141  EF56D7D1D612AC11  electric_bike  2021-05-20 16:32:14   \n",
            "3094143  428575BAA5356BFF  electric_bike  2021-05-31 14:24:54   \n",
            "3094144  FC8A4A7AB7249662  electric_bike  2021-05-25 16:01:33   \n",
            "\n",
            "                    ended_at               start_station_name  \\\n",
            "800      2020-06-04 07:58:23          Broadway & Cornelia Ave   \n",
            "1266     2020-06-28 18:23:31           Michigan Ave & Lake St   \n",
            "2354     2020-06-21 20:28:05           Michigan Ave & Lake St   \n",
            "2492     2020-06-04 10:09:18       Indiana Ave & Roosevelt Rd   \n",
            "2957     2020-06-17 10:18:26       Clarendon Ave & Junior Ter   \n",
            "...                      ...                              ...   \n",
            "3094139  2021-05-11 22:51:22       Sheridan Rd & Montrose Ave   \n",
            "3094140  2021-05-02 17:52:19  Blackstone Ave & Hyde Park Blvd   \n",
            "3094141  2021-05-20 16:35:39  Blackstone Ave & Hyde Park Blvd   \n",
            "3094143  2021-05-31 14:31:38       Sheridan Rd & Montrose Ave   \n",
            "3094144  2021-05-25 16:07:37       Sheridan Rd & Montrose Ave   \n",
            "\n",
            "        start_station_id end_station_name end_station_id  start_lat  \\\n",
            "800                  303              NaN            NaN  41.945529   \n",
            "1266                  52              NaN            NaN  41.886024   \n",
            "2354                  52              NaN            NaN  41.886024   \n",
            "2492                 255              NaN            NaN  41.867888   \n",
            "2957                 245              NaN            NaN  41.961004   \n",
            "...                  ...              ...            ...        ...   \n",
            "3094139     TA1307000107              NaN            NaN  41.961660   \n",
            "3094140            13398              NaN            NaN  41.802586   \n",
            "3094141            13398              NaN            NaN  41.802581   \n",
            "3094143     TA1307000107              NaN            NaN  41.961525   \n",
            "3094144     TA1307000107              NaN            NaN  41.961654   \n",
            "\n",
            "         start_lng  end_lat  end_lng member_casual  \n",
            "800     -87.646439      NaN      NaN        member  \n",
            "1266    -87.624117      NaN      NaN        casual  \n",
            "2354    -87.624117      NaN      NaN        member  \n",
            "2492    -87.623041      NaN      NaN        casual  \n",
            "2957    -87.649603      NaN      NaN        member  \n",
            "...            ...      ...      ...           ...  \n",
            "3094139 -87.654696    41.95   -87.65        member  \n",
            "3094140 -87.590306    41.80   -87.60        member  \n",
            "3094141 -87.590230    41.80   -87.60        member  \n",
            "3094143 -87.654651    41.95   -87.65        member  \n",
            "3094144 -87.654721    41.98   -87.66        member  \n",
            "\n",
            "[280736 rows x 13 columns]\n"
          ]
        }
      ]
    },
    {
      "cell_type": "code",
      "source": [
        "# Examine the first row with missing values further\n",
        "print(df.iloc[800])"
      ],
      "metadata": {
        "colab": {
          "base_uri": "https://localhost:8080/"
        },
        "id": "boHyKMkGXB9x",
        "outputId": "3e0279e9-b5ba-4f8c-fd0b-9b1318bdd271"
      },
      "execution_count": null,
      "outputs": [
        {
          "output_type": "stream",
          "name": "stdout",
          "text": [
            "ride_id                      8F5DC3FE5B22E480\n",
            "rideable_type                     docked_bike\n",
            "started_at                2020-06-04 07:24:22\n",
            "ended_at                  2020-06-04 07:58:23\n",
            "start_station_name    Broadway & Cornelia Ave\n",
            "start_station_id                          303\n",
            "end_station_name                          NaN\n",
            "end_station_id                            NaN\n",
            "start_lat                           41.945529\n",
            "start_lng                          -87.646439\n",
            "end_lat                                   NaN\n",
            "end_lng                                   NaN\n",
            "member_casual                          member\n",
            "Name: 800, dtype: object\n"
          ]
        }
      ]
    },
    {
      "cell_type": "code",
      "source": [
        "# Find out the total number of rows that contain null values\n",
        "sum_of_rows_with_null_values = df.isnull().any(axis=1).sum()\n",
        "print(f\"Total Null rows: {sum_of_rows_with_null_values}\")"
      ],
      "metadata": {
        "colab": {
          "base_uri": "https://localhost:8080/"
        },
        "id": "S2s6oW_FXN_k",
        "outputId": "a54b10ce-2b2e-430d-d924-7d8244da5f89"
      },
      "execution_count": null,
      "outputs": [
        {
          "output_type": "stream",
          "name": "stdout",
          "text": [
            "Total Null rows: 280736\n"
          ]
        }
      ]
    },
    {
      "cell_type": "code",
      "source": [
        "# Percentage of rows with missing values in the dataset\n",
        "pc_nan_rows = sum_of_rows_with_null_values / df.shape[0] * 100\n",
        "print(f\"PC of null rows: {pc_nan_rows}\")"
      ],
      "metadata": {
        "colab": {
          "base_uri": "https://localhost:8080/"
        },
        "id": "w3vHNbFlXPYj",
        "outputId": "2536f492-b24b-4ae7-fdf3-379d63242927"
      },
      "execution_count": null,
      "outputs": [
        {
          "output_type": "stream",
          "name": "stdout",
          "text": [
            "PC of null rows: 9.073133588395635\n"
          ]
        }
      ]
    },
    {
      "cell_type": "code",
      "source": [
        "#Drop rows with missing data\n",
        "clean_df = df.dropna(axis=\"index\")"
      ],
      "metadata": {
        "id": "0osUp7OeXTLM"
      },
      "execution_count": null,
      "outputs": []
    },
    {
      "cell_type": "code",
      "source": [
        "# Check if new df has any missing values\n",
        "print(clean_df.isnull().sum())"
      ],
      "metadata": {
        "colab": {
          "base_uri": "https://localhost:8080/"
        },
        "id": "h7qynNTMXbyx",
        "outputId": "0f225e37-a2b8-4671-c354-b24794d9db0f"
      },
      "execution_count": null,
      "outputs": [
        {
          "output_type": "stream",
          "name": "stdout",
          "text": [
            "ride_id               0\n",
            "rideable_type         0\n",
            "started_at            0\n",
            "ended_at              0\n",
            "start_station_name    0\n",
            "start_station_id      0\n",
            "end_station_name      0\n",
            "end_station_id        0\n",
            "start_lat             0\n",
            "start_lng             0\n",
            "end_lat               0\n",
            "end_lng               0\n",
            "member_casual         0\n",
            "dtype: int64\n"
          ]
        }
      ]
    },
    {
      "cell_type": "code",
      "source": [
        "# Check if any ID's are duplicate\n",
        "total_duplicate_rows = clean_df.duplicated().sum()\n",
        "print(f\"Duplicate rows: {total_duplicate_rows}\")"
      ],
      "metadata": {
        "colab": {
          "base_uri": "https://localhost:8080/"
        },
        "id": "bt-pQTJlXzDS",
        "outputId": "e1fa3055-9f75-497c-e196-913eec53d2ce"
      },
      "execution_count": null,
      "outputs": [
        {
          "output_type": "stream",
          "name": "stdout",
          "text": [
            "Duplicate rows: 0\n"
          ]
        }
      ]
    },
    {
      "cell_type": "code",
      "source": [
        "# Cleaned dataframe\n",
        "print(clean_df)\n",
        "print(clean_df.info())"
      ],
      "metadata": {
        "colab": {
          "base_uri": "https://localhost:8080/"
        },
        "id": "bn4ByRjOX9Iq",
        "outputId": "cdaff536-bc0f-4dca-822e-df7d8431e4c9"
      },
      "execution_count": null,
      "outputs": [
        {
          "output_type": "stream",
          "name": "stdout",
          "text": [
            "                  ride_id  rideable_type           started_at  \\\n",
            "0        8CD5DE2C2B6C4CFC    docked_bike  2020-06-13 23:24:48   \n",
            "1        9A191EB2C751D85D    docked_bike  2020-06-26 07:26:10   \n",
            "2        F37D14B0B5659BCF    docked_bike  2020-06-23 17:12:41   \n",
            "3        C41237B506E85FA1    docked_bike  2020-06-20 01:09:35   \n",
            "4        4B51B3B0BDA7787C    docked_bike  2020-06-25 16:59:25   \n",
            "...                   ...            ...                  ...   \n",
            "3094136  6AFB0C7D4D89F1B0   classic_bike  2021-05-01 15:28:11   \n",
            "3094137  187B36C368311E5B  electric_bike  2021-05-12 18:37:36   \n",
            "3094138  43C517C9DD4CF4B2    docked_bike  2021-05-22 17:45:09   \n",
            "3094142  745191CB9F21DE3C   classic_bike  2021-05-29 16:40:37   \n",
            "3094145  E873B8AA3EE84678    docked_bike  2021-05-12 12:22:14   \n",
            "\n",
            "                    ended_at           start_station_name start_station_id  \\\n",
            "0        2020-06-13 23:36:55     Wilton Ave & Belmont Ave              117   \n",
            "1        2020-06-26 07:31:58         Federal St & Polk St               41   \n",
            "2        2020-06-23 17:21:14           Daley Center Plaza               81   \n",
            "3        2020-06-20 01:28:24      Broadway & Cornelia Ave              303   \n",
            "4        2020-06-25 17:08:48  Sheffield Ave & Webster Ave              327   \n",
            "...                      ...                          ...              ...   \n",
            "3094136  2021-05-01 16:00:54   Sheridan Rd & Montrose Ave     TA1307000107   \n",
            "3094137  2021-05-12 18:44:13   Sheridan Rd & Montrose Ave     TA1307000107   \n",
            "3094138  2021-05-22 18:30:00         Clark St & North Ave            13128   \n",
            "3094142  2021-05-29 17:22:37   Sheridan Rd & Montrose Ave     TA1307000107   \n",
            "3094145  2021-05-12 12:30:27   Sheridan Rd & Montrose Ave     TA1307000107   \n",
            "\n",
            "                 end_station_name end_station_id  start_lat  start_lng  \\\n",
            "0        Damen Ave & Clybourn Ave          163.0  41.940180 -87.653040   \n",
            "1              Daley Center Plaza           81.0  41.872077 -87.629543   \n",
            "2          State St & Harrison St            5.0  41.884241 -87.629634   \n",
            "3           Broadway & Berwyn Ave          294.0  41.945529 -87.646439   \n",
            "4        Wilton Ave & Belmont Ave          117.0  41.921540 -87.653818   \n",
            "...                           ...            ...        ...        ...   \n",
            "3094136     Michigan Ave & Oak St          13042  41.961670 -87.654640   \n",
            "3094137       Clark St & Grace St   TA1307000127  41.961521 -87.654596   \n",
            "3094138  Kingsbury St & Kinzie St   KA1503000043  41.911974 -87.631942   \n",
            "3094142     Michigan Ave & Oak St          13042  41.961670 -87.654640   \n",
            "3094145       Clark St & Grace St   TA1307000127  41.961670 -87.654640   \n",
            "\n",
            "           end_lat    end_lng member_casual  \n",
            "0        41.931931 -87.677856        casual  \n",
            "1        41.884241 -87.629634        member  \n",
            "2        41.874053 -87.627716        member  \n",
            "3        41.978353 -87.659753        casual  \n",
            "4        41.940180 -87.653040        casual  \n",
            "...            ...        ...           ...  \n",
            "3094136  41.900960 -87.623777        member  \n",
            "3094137  41.950980 -87.659022        member  \n",
            "3094138  41.889177 -87.638506        casual  \n",
            "3094142  41.900960 -87.623777        casual  \n",
            "3094145  41.950780 -87.659172        casual  \n",
            "\n",
            "[2813410 rows x 13 columns]\n",
            "<class 'pandas.core.frame.DataFrame'>\n",
            "Int64Index: 2813410 entries, 0 to 3094145\n",
            "Data columns (total 13 columns):\n",
            " #   Column              Dtype  \n",
            "---  ------              -----  \n",
            " 0   ride_id             object \n",
            " 1   rideable_type       object \n",
            " 2   started_at          object \n",
            " 3   ended_at            object \n",
            " 4   start_station_name  object \n",
            " 5   start_station_id    object \n",
            " 6   end_station_name    object \n",
            " 7   end_station_id      object \n",
            " 8   start_lat           float64\n",
            " 9   start_lng           float64\n",
            " 10  end_lat             float64\n",
            " 11  end_lng             float64\n",
            " 12  member_casual       object \n",
            "dtypes: float64(4), object(9)\n",
            "memory usage: 300.5+ MB\n",
            "None\n"
          ]
        }
      ]
    },
    {
      "cell_type": "markdown",
      "source": [
        "Process Data"
      ],
      "metadata": {
        "id": "ADVxTYXsYH9K"
      }
    },
    {
      "cell_type": "code",
      "source": [
        "# transform started_at and ended_at into datetime\n",
        "clean_df[\"started_at\"] = pd.to_datetime(clean_df[\"started_at\"])\n",
        "clean_df[\"ended_at\"] = pd.to_datetime(clean_df[\"ended_at\"])"
      ],
      "metadata": {
        "colab": {
          "base_uri": "https://localhost:8080/"
        },
        "id": "49wmprnYYBTw",
        "outputId": "b71b21b5-f94b-4d1d-8783-1dcab08f76a2"
      },
      "execution_count": null,
      "outputs": [
        {
          "output_type": "stream",
          "name": "stderr",
          "text": [
            "<ipython-input-22-67f5e276ed90>:2: SettingWithCopyWarning: \n",
            "A value is trying to be set on a copy of a slice from a DataFrame.\n",
            "Try using .loc[row_indexer,col_indexer] = value instead\n",
            "\n",
            "See the caveats in the documentation: https://pandas.pydata.org/pandas-docs/stable/user_guide/indexing.html#returning-a-view-versus-a-copy\n",
            "  clean_df[\"started_at\"] = pd.to_datetime(clean_df[\"started_at\"])\n",
            "<ipython-input-22-67f5e276ed90>:3: SettingWithCopyWarning: \n",
            "A value is trying to be set on a copy of a slice from a DataFrame.\n",
            "Try using .loc[row_indexer,col_indexer] = value instead\n",
            "\n",
            "See the caveats in the documentation: https://pandas.pydata.org/pandas-docs/stable/user_guide/indexing.html#returning-a-view-versus-a-copy\n",
            "  clean_df[\"ended_at\"] = pd.to_datetime(clean_df[\"ended_at\"])\n"
          ]
        }
      ]
    },
    {
      "cell_type": "code",
      "source": [
        "# Sort dataframe in descending order based on ended_at colum\n",
        "clean_df.sort_values(by=[\"ended_at\"], inplace=True, ascending=False)\n",
        "print(clean_df)"
      ],
      "metadata": {
        "colab": {
          "base_uri": "https://localhost:8080/"
        },
        "id": "xRC5l0eDYQYo",
        "outputId": "a02eae8a-d1e0-4615-9c84-5910c111482c"
      },
      "execution_count": null,
      "outputs": [
        {
          "output_type": "stream",
          "name": "stdout",
          "text": [
            "                  ride_id rideable_type          started_at  \\\n",
            "2740997  C4896415C76C8463   docked_bike 2021-05-23 17:41:59   \n",
            "2752587  583824DCF443DD0B   docked_bike 2021-05-30 13:28:44   \n",
            "2969771  B304E261D019812E   docked_bike 2021-05-30 23:25:08   \n",
            "2741800  1073DF51476BB423   docked_bike 2021-05-21 13:56:08   \n",
            "2608834  BDA1217EC8532C7B   docked_bike 2021-05-02 02:56:07   \n",
            "...                   ...           ...                 ...   \n",
            "93748    4AFF9415DF507565   docked_bike 2020-06-03 06:00:21   \n",
            "128222   90058C0761C4E45F   docked_bike 2020-06-03 06:00:14   \n",
            "34902    E771D6B798F54371   docked_bike 2020-06-03 05:59:59   \n",
            "26101    742C8A708C5D94FE   docked_bike 2020-06-03 06:03:42   \n",
            "294147   B29C30CFA0072B25   docked_bike 2020-06-03 06:00:12   \n",
            "\n",
            "                   ended_at               start_station_name start_station_id  \\\n",
            "2740997 2021-06-10 22:17:11                  Millennium Park            13008   \n",
            "2752587 2021-06-10 16:10:13               Clark St & Lake St     KA1503000012   \n",
            "2969771 2021-06-09 10:14:39  Cityfront Plaza Dr & Pioneer Ct            13427   \n",
            "2741800 2021-06-08 22:29:59                   Dusable Harbor     KA1503000064   \n",
            "2608834 2021-06-08 13:37:43          State St & Van Buren St     TA1305000035   \n",
            "...                     ...                              ...              ...   \n",
            "93748   2020-06-03 06:13:13                     Eckhart Park               86   \n",
            "128222  2020-06-03 06:12:09         Halsted St & Dickens Ave              225   \n",
            "34902   2020-06-03 06:11:16            Ashland Ave & Lake St              119   \n",
            "26101   2020-06-03 06:03:46         Halsted St & Dickens Ave              225   \n",
            "294147  2020-06-03 06:03:37        Larrabee St & Webster Ave              144   \n",
            "\n",
            "                            end_station_name  \\\n",
            "2740997      Base - 2132 W Hubbard Warehouse   \n",
            "2752587               Michigan Ave & Lake St   \n",
            "2969771      Base - 2132 W Hubbard Warehouse   \n",
            "2741800      Base - 2132 W Hubbard Warehouse   \n",
            "2608834                   Wells St & Polk St   \n",
            "...                                      ...   \n",
            "93748    Mies van der Rohe Way & Chicago Ave   \n",
            "128222                   Clark St & Grace St   \n",
            "34902                             Walsh Park   \n",
            "26101               Halsted St & Dickens Ave   \n",
            "294147           Halsted St & Wrightwood Ave   \n",
            "\n",
            "                              end_station_id  start_lat  start_lng    end_lat  \\\n",
            "2740997  Hubbard Bike-checking (LBS-WH-TEST)  41.881032 -87.624084  41.889955   \n",
            "2752587                         TA1305000011  41.886021 -87.630876  41.886024   \n",
            "2969771  Hubbard Bike-checking (LBS-WH-TEST)  41.890573 -87.622072  41.889955   \n",
            "2741800  Hubbard Bike-checking (LBS-WH-TEST)  41.886976 -87.612813  41.889955   \n",
            "2608834                               SL-011  41.877181 -87.627844  41.872596   \n",
            "...                                      ...        ...        ...        ...   \n",
            "93748                                  173.0  41.896373 -87.660983  41.896910   \n",
            "128222                                 165.0  41.919936 -87.648830  41.950780   \n",
            "34902                                  628.0  41.885920 -87.667170  41.914610   \n",
            "26101                                  225.0  41.919936 -87.648830  41.919936   \n",
            "294147                                 349.0  41.921822 -87.644140  41.929143   \n",
            "\n",
            "           end_lng member_casual  \n",
            "2740997 -87.680651        casual  \n",
            "2752587 -87.624117        casual  \n",
            "2969771 -87.680651        casual  \n",
            "2741800 -87.680651        casual  \n",
            "2608834 -87.633502        casual  \n",
            "...            ...           ...  \n",
            "93748   -87.621743        member  \n",
            "128222  -87.659172        member  \n",
            "34902   -87.667968        member  \n",
            "26101   -87.648830        member  \n",
            "294147  -87.649077        member  \n",
            "\n",
            "[2813410 rows x 13 columns]\n"
          ]
        },
        {
          "output_type": "stream",
          "name": "stderr",
          "text": [
            "<ipython-input-23-7668e9498570>:2: SettingWithCopyWarning: \n",
            "A value is trying to be set on a copy of a slice from a DataFrame\n",
            "\n",
            "See the caveats in the documentation: https://pandas.pydata.org/pandas-docs/stable/user_guide/indexing.html#returning-a-view-versus-a-copy\n",
            "  clean_df.sort_values(by=[\"ended_at\"], inplace=True, ascending=False)\n"
          ]
        }
      ]
    },
    {
      "cell_type": "code",
      "source": [
        "june_2021_filter = df[\"ended_at\"] <= \"2021-06-03 00:00:00\"\n",
        "clean_df = clean_df[june_2021_filter]"
      ],
      "metadata": {
        "colab": {
          "base_uri": "https://localhost:8080/"
        },
        "id": "SSbqwh08YYhC",
        "outputId": "8fc301ce-c5e7-4554-ae5a-99e3bda7005d"
      },
      "execution_count": null,
      "outputs": [
        {
          "output_type": "stream",
          "name": "stderr",
          "text": [
            "<ipython-input-24-468856aa6bd9>:2: UserWarning: Boolean Series key will be reindexed to match DataFrame index.\n",
            "  clean_df = clean_df[june_2021_filter]\n"
          ]
        }
      ]
    },
    {
      "cell_type": "code",
      "source": [
        "# Create ride_length column (ride_length is in minutes)\n",
        "ride_length = clean_df[\"ended_at\"] - clean_df[\"started_at\"]\n",
        "ride_length = np.round(ride_length.dt.total_seconds() / 60, 2)\n",
        "clean_df[\"ride_length\"] = ride_length"
      ],
      "metadata": {
        "id": "SJ_23VsVYgt8"
      },
      "execution_count": null,
      "outputs": []
    },
    {
      "cell_type": "code",
      "source": [
        "# This colum will contain the day of the week a ride started\n",
        "clean_df[\"day_of_week\"] = clean_df[\"started_at\"].dt.day_name()"
      ],
      "metadata": {
        "id": "CIlX6zS1Z22y"
      },
      "execution_count": null,
      "outputs": []
    },
    {
      "cell_type": "code",
      "source": [
        "# month columns\n",
        "clean_df[\"month\"] = pd.DatetimeIndex(clean_df[\"started_at\"]).month\n",
        "clean_df[\"month_name\"] = clean_df[\"started_at\"].dt.strftime(\"%b\")\n",
        "print(clean_df)"
      ],
      "metadata": {
        "colab": {
          "base_uri": "https://localhost:8080/"
        },
        "id": "SViL4g-0aF9o",
        "outputId": "4a97cde3-cf76-41f4-b7e0-a27d9bc29c61"
      },
      "execution_count": null,
      "outputs": [
        {
          "output_type": "stream",
          "name": "stdout",
          "text": [
            "                  ride_id rideable_type          started_at  \\\n",
            "3015745  A395D6C9A3DF99CB   docked_bike 2021-05-30 13:28:35   \n",
            "2858014  FDE3A0BDFBBEF2D3   docked_bike 2021-05-31 13:23:00   \n",
            "2951539  4714FB84FAA2FCB2   docked_bike 2021-05-30 15:49:20   \n",
            "2790919  4C1F7EC575F92A86   docked_bike 2021-05-30 15:16:43   \n",
            "2584611  FD95EAA51634E6AD   docked_bike 2021-05-30 13:38:24   \n",
            "...                   ...           ...                 ...   \n",
            "93748    4AFF9415DF507565   docked_bike 2020-06-03 06:00:21   \n",
            "128222   90058C0761C4E45F   docked_bike 2020-06-03 06:00:14   \n",
            "34902    E771D6B798F54371   docked_bike 2020-06-03 05:59:59   \n",
            "26101    742C8A708C5D94FE   docked_bike 2020-06-03 06:03:42   \n",
            "294147   B29C30CFA0072B25   docked_bike 2020-06-03 06:00:12   \n",
            "\n",
            "                   ended_at         start_station_name start_station_id  \\\n",
            "3015745 2021-06-02 23:25:59         Clark St & Lake St     KA1503000012   \n",
            "2858014 2021-06-02 22:03:08            Millennium Park            13008   \n",
            "2951539 2021-06-02 12:53:55   Chicago State University            20106   \n",
            "2790919 2021-06-02 11:37:50     State St & Randolph St     TA1305000029   \n",
            "2584611 2021-06-02 10:42:52    Streeter Dr & Grand Ave            13022   \n",
            "...                     ...                        ...              ...   \n",
            "93748   2020-06-03 06:13:13               Eckhart Park               86   \n",
            "128222  2020-06-03 06:12:09   Halsted St & Dickens Ave              225   \n",
            "34902   2020-06-03 06:11:16      Ashland Ave & Lake St              119   \n",
            "26101   2020-06-03 06:03:46   Halsted St & Dickens Ave              225   \n",
            "294147  2020-06-03 06:03:37  Larrabee St & Webster Ave              144   \n",
            "\n",
            "                            end_station_name end_station_id  start_lat  \\\n",
            "3015745           Kedzie Ave & Milwaukee Ave          13085  41.886021   \n",
            "2858014             Broadway & Thorndale Ave          15575  41.881032   \n",
            "2951539             Chicago State University          20106  41.718963   \n",
            "2790919             Leavitt St & Division St            658  41.884679   \n",
            "2584611            Columbus Dr & Randolph St          13263  41.892278   \n",
            "...                                      ...            ...        ...   \n",
            "93748    Mies van der Rohe Way & Chicago Ave          173.0  41.896373   \n",
            "128222                   Clark St & Grace St          165.0  41.919936   \n",
            "34902                             Walsh Park          628.0  41.885920   \n",
            "26101               Halsted St & Dickens Ave          225.0  41.919936   \n",
            "294147           Halsted St & Wrightwood Ave          349.0  41.921822   \n",
            "\n",
            "         start_lng    end_lat    end_lng member_casual  ride_length  \\\n",
            "3015745 -87.630876  41.929567 -87.707857        casual      4917.40   \n",
            "2858014 -87.624084  41.989743 -87.660141        casual      3400.13   \n",
            "2951539 -87.608296  41.718963 -87.608296        casual      4144.58   \n",
            "2790919 -87.627975  41.902997 -87.683825        casual      4101.12   \n",
            "2584611 -87.612043  41.884728 -87.619521        casual      4144.47   \n",
            "...            ...        ...        ...           ...          ...   \n",
            "93748   -87.660983  41.896910 -87.621743        member        12.87   \n",
            "128222  -87.648830  41.950780 -87.659172        member        11.92   \n",
            "34902   -87.667170  41.914610 -87.667968        member        11.28   \n",
            "26101   -87.648830  41.919936 -87.648830        member         0.07   \n",
            "294147  -87.644140  41.929143 -87.649077        member         3.42   \n",
            "\n",
            "        day_of_week  month month_name  \n",
            "3015745      Sunday      5        May  \n",
            "2858014      Monday      5        May  \n",
            "2951539      Sunday      5        May  \n",
            "2790919      Sunday      5        May  \n",
            "2584611      Sunday      5        May  \n",
            "...             ...    ...        ...  \n",
            "93748     Wednesday      6        Jun  \n",
            "128222    Wednesday      6        Jun  \n",
            "34902     Wednesday      6        Jun  \n",
            "26101     Wednesday      6        Jun  \n",
            "294147    Wednesday      6        Jun  \n",
            "\n",
            "[2813383 rows x 17 columns]\n"
          ]
        }
      ]
    },
    {
      "cell_type": "code",
      "source": [
        "# Get a summary of the data\n",
        "data_descrption = clean_df.describe()\n",
        "print(data_descrption)"
      ],
      "metadata": {
        "colab": {
          "base_uri": "https://localhost:8080/"
        },
        "id": "5M8vn9zUaRmE",
        "outputId": "6bed60ac-5d00-4d65-fa54-265d8a06e002"
      },
      "execution_count": null,
      "outputs": [
        {
          "output_type": "stream",
          "name": "stdout",
          "text": [
            "          start_lat     start_lng       end_lat       end_lng   ride_length  \\\n",
            "count  2.813383e+06  2.813383e+06  2.813383e+06  2.813383e+06  2.813383e+06   \n",
            "mean   4.190398e+01 -8.764380e+01  4.190427e+01 -8.764407e+01  2.287586e+01   \n",
            "std    4.160668e-02  2.418699e-02  4.170234e-02  2.429622e-02  3.726625e+02   \n",
            "min    4.164850e+01 -8.777470e+01  4.164850e+01 -8.777470e+01 -2.904997e+04   \n",
            "25%    4.188224e+01 -8.765691e+01  4.188266e+01 -8.765703e+01  7.680000e+00   \n",
            "50%    4.189884e+01 -8.764055e+01  4.189897e+01 -8.764107e+01  1.395000e+01   \n",
            "75%    4.192914e+01 -8.762769e+01  4.192947e+01 -8.762769e+01  2.573000e+01   \n",
            "max    4.206489e+01 -8.752823e+01  4.206501e+01 -8.752452e+01  5.428335e+04   \n",
            "\n",
            "              month  \n",
            "count  2.813383e+06  \n",
            "mean   6.703857e+00  \n",
            "std    2.756363e+00  \n",
            "min    1.000000e+00  \n",
            "25%    5.000000e+00  \n",
            "50%    6.000000e+00  \n",
            "75%    9.000000e+00  \n",
            "max    1.200000e+01  \n"
          ]
        }
      ]
    },
    {
      "cell_type": "code",
      "source": [
        "neg_ride_length = clean_df[clean_df[\"ride_length\"] < 0]\n",
        "print(f\"Rows with negative ride length value {neg_ride_length}\")"
      ],
      "metadata": {
        "colab": {
          "base_uri": "https://localhost:8080/"
        },
        "id": "HhBErIRmaaBl",
        "outputId": "f7d3c4c6-44c5-4c3a-83e4-68426ef21da5"
      },
      "execution_count": null,
      "outputs": [
        {
          "output_type": "stream",
          "name": "stdout",
          "text": [
            "Rows with negative ride length value                   ride_id  rideable_type          started_at  \\\n",
            "2875644  3EC1B5A4D4B9AB99   classic_bike 2021-05-05 16:10:04   \n",
            "2517961  318DD838369AEA61   classic_bike 2021-04-30 10:56:32   \n",
            "2517849  6E81034B446FC2FD  electric_bike 2021-04-23 09:43:39   \n",
            "2518316  8ADD13BD8F6A7567   classic_bike 2021-04-17 12:43:36   \n",
            "2247644  BC53ECCBC76278FD   classic_bike 2021-04-07 16:11:33   \n",
            "...                   ...            ...                 ...   \n",
            "51866    1DB151399AF9CD21    docked_bike 2020-06-03 10:50:40   \n",
            "52149    BA20A3E54DDB643B    docked_bike 2020-06-03 10:18:43   \n",
            "70962    380583B1980964E2    docked_bike 2020-06-03 09:56:40   \n",
            "79997    B74D4FD4D24FA6E2    docked_bike 2020-06-03 09:54:56   \n",
            "250389   A578E6884FEF2972    docked_bike 2020-06-03 09:53:40   \n",
            "\n",
            "                   ended_at              start_station_name start_station_id  \\\n",
            "2875644 2021-05-05 16:09:51           Dayton St & North Ave            13058   \n",
            "2517961 2021-04-30 10:56:30           Dayton St & North Ave            13058   \n",
            "2517849 2021-04-23 09:43:29           Dayton St & North Ave            13058   \n",
            "2518316 2021-04-17 12:43:27           Dayton St & North Ave            13058   \n",
            "2247644 2021-04-07 16:11:26         Ashland Ave & Grand Ave            13434   \n",
            "...                     ...                             ...              ...   \n",
            "51866   2020-06-03 10:50:29          Michigan Ave & Lake St               52   \n",
            "52149   2020-06-03 10:18:33  Wentworth Ave & 24th St (Temp)              132   \n",
            "70962   2020-06-03 09:55:33           Wolcott Ave & Polk St              342   \n",
            "79997   2020-06-03 09:54:25            Federal St & Polk St               41   \n",
            "250389  2020-06-03 09:52:51               Clark St & Elm St              176   \n",
            "\n",
            "                        end_station_name end_station_id  start_lat  start_lng  \\\n",
            "2875644            Dayton St & North Ave          13058  41.910578 -87.649422   \n",
            "2517961            Dayton St & North Ave          13058  41.910578 -87.649422   \n",
            "2517849            Dayton St & North Ave          13058  41.910638 -87.649372   \n",
            "2518316            Dayton St & North Ave          13058  41.910578 -87.649422   \n",
            "2247644          Ashland Ave & Grand Ave          13434  41.891072 -87.666611   \n",
            "...                                  ...            ...        ...        ...   \n",
            "51866              Wells St & Hubbard St          212.0  41.886024 -87.624117   \n",
            "52149             Michigan Ave & Lake St           52.0  41.850083 -87.632140   \n",
            "70962    Cityfront Plaza Dr & Pioneer Ct          196.0  41.871262 -87.673688   \n",
            "79997         Dearborn St & Van Buren St          624.0  41.872077 -87.629543   \n",
            "250389                 Wells St & Elm St          182.0  41.902973 -87.631280   \n",
            "\n",
            "           end_lat    end_lng member_casual  ride_length day_of_week  month  \\\n",
            "2875644  41.910578 -87.649422        member        -0.22   Wednesday      5   \n",
            "2517961  41.910578 -87.649422        member        -0.03      Friday      4   \n",
            "2517849  41.910650 -87.649386        member        -0.17      Friday      4   \n",
            "2518316  41.910578 -87.649422        member        -0.15    Saturday      4   \n",
            "2247644  41.891072 -87.666611        member        -0.12   Wednesday      4   \n",
            "...            ...        ...           ...          ...         ...    ...   \n",
            "51866    41.889906 -87.634266        member        -0.18   Wednesday      6   \n",
            "52149    41.886024 -87.624117        member        -0.17   Wednesday      6   \n",
            "70962    41.890573 -87.622072        member        -1.12   Wednesday      6   \n",
            "79997    41.876268 -87.629155        member        -0.52   Wednesday      6   \n",
            "250389   41.903222 -87.634324        member        -0.82   Wednesday      6   \n",
            "\n",
            "        month_name  \n",
            "2875644        May  \n",
            "2517961        Apr  \n",
            "2517849        Apr  \n",
            "2518316        Apr  \n",
            "2247644        Apr  \n",
            "...            ...  \n",
            "51866          Jun  \n",
            "52149          Jun  \n",
            "70962          Jun  \n",
            "79997          Jun  \n",
            "250389         Jun  \n",
            "\n",
            "[6066 rows x 17 columns]\n"
          ]
        }
      ]
    },
    {
      "cell_type": "code",
      "source": [
        "# 10k rows have negative values - we filter them out\n",
        "clean_df = clean_df[clean_df[\"ride_length\"] > 0]"
      ],
      "metadata": {
        "id": "5gHqtzeFadkc"
      },
      "execution_count": null,
      "outputs": []
    },
    {
      "cell_type": "markdown",
      "source": [
        "Analyze Data"
      ],
      "metadata": {
        "id": "GzJf2CHdaixK"
      }
    },
    {
      "cell_type": "code",
      "source": [
        "data_descrption = clean_df.describe()\n",
        "print(data_descrption)"
      ],
      "metadata": {
        "colab": {
          "base_uri": "https://localhost:8080/"
        },
        "id": "Q_YNPS0Kao-p",
        "outputId": "81b2aa56-ded3-4c92-d828-819d9469690b"
      },
      "execution_count": null,
      "outputs": [
        {
          "output_type": "stream",
          "name": "stdout",
          "text": [
            "          start_lat     start_lng       end_lat       end_lng   ride_length  \\\n",
            "count  2.807127e+06  2.807127e+06  2.807127e+06  2.807127e+06  2.807127e+06   \n",
            "mean   4.190398e+01 -8.764381e+01  4.190427e+01 -8.764407e+01  2.613893e+01   \n",
            "std    4.161211e-02  2.419108e-02  4.170528e-02  2.429908e-02  2.173635e+02   \n",
            "min    4.164850e+01 -8.777470e+01  4.164850e+01 -8.777470e+01  2.000000e-02   \n",
            "25%    4.188224e+01 -8.765694e+01  4.188266e+01 -8.765703e+01  7.720000e+00   \n",
            "50%    4.189884e+01 -8.764055e+01  4.189897e+01 -8.764107e+01  1.400000e+01   \n",
            "75%    4.192914e+01 -8.762769e+01  4.192947e+01 -8.762769e+01  2.578000e+01   \n",
            "max    4.206489e+01 -8.752823e+01  4.206501e+01 -8.752452e+01  5.428335e+04   \n",
            "\n",
            "              month  \n",
            "count  2.807127e+06  \n",
            "mean   6.699073e+00  \n",
            "std    2.756392e+00  \n",
            "min    1.000000e+00  \n",
            "25%    5.000000e+00  \n",
            "50%    6.000000e+00  \n",
            "75%    9.000000e+00  \n",
            "max    1.200000e+01  \n"
          ]
        }
      ]
    },
    {
      "cell_type": "markdown",
      "source": [
        "# From the new summary:\n",
        "# The average ride_length is 26.98 minutes\n",
        "# The minimum ride length is 1.2 seconds\n",
        "# The maximum ride length is 904.72hours, approxiamately 38days"
      ],
      "metadata": {
        "id": "qhWM9ZyOa0FX"
      }
    },
    {
      "cell_type": "markdown",
      "source": [
        "# TOTAL NUMBER OF RIDERS PER CATEGORY"
      ],
      "metadata": {
        "id": "LsNoMS2Jg2Mg"
      }
    },
    {
      "cell_type": "code",
      "source": [
        "# TOTAL NUMBER OF RIDERS PER CATEGORY\n",
        "total_riders = clean_df[\"member_casual\"].value_counts()\n",
        "print(f\"Number of riders per category \\n {total_riders}\")"
      ],
      "metadata": {
        "colab": {
          "base_uri": "https://localhost:8080/"
        },
        "id": "BCEI2ieSarL1",
        "outputId": "7b49a14f-1ad2-4f0b-8f5b-4fbee81adc89"
      },
      "execution_count": null,
      "outputs": [
        {
          "output_type": "stream",
          "name": "stdout",
          "text": [
            "Number of riders per category \n",
            " member    1629659\n",
            "casual    1177468\n",
            "Name: member_casual, dtype: int64\n"
          ]
        }
      ]
    },
    {
      "cell_type": "code",
      "source": [
        "# Confirm the total number of bike-share riders\n",
        "total_riders_using_id = clean_df.groupby([\"member_casual\"])[\"ride_id\"].count()\n",
        "print(f\"Total riders using ride_id \\n {total_riders_using_id}\")"
      ],
      "metadata": {
        "colab": {
          "base_uri": "https://localhost:8080/"
        },
        "id": "8qK3KOEWa9UH",
        "outputId": "1ac517d1-6e5e-4552-ddae-3bf54f6d3dca"
      },
      "execution_count": null,
      "outputs": [
        {
          "output_type": "stream",
          "name": "stdout",
          "text": [
            "Total riders using ride_id \n",
            " member_casual\n",
            "casual    1177468\n",
            "member    1629659\n",
            "Name: ride_id, dtype: int64\n"
          ]
        }
      ]
    },
    {
      "cell_type": "code",
      "source": [
        "# Pie chart to show riders per category\n",
        "fig, ax = plt.subplots(figsize=(7, 3), dpi=90)\n",
        "labels = [\"Member\", \"Casual\"]\n",
        "plt.pie(x=total_riders, autopct=\"%.1f%%\", labels=labels)\n",
        "ax.set_title(\"Total Bike Hires Per Rider Category\", pad=14, loc=\"center\")\n",
        "plt.show()"
      ],
      "metadata": {
        "colab": {
          "base_uri": "https://localhost:8080/",
          "height": 272
        },
        "id": "ID5elKabbFKp",
        "outputId": "7321f4e8-e88f-48c1-a4c0-816ba0cedb46"
      },
      "execution_count": null,
      "outputs": [
        {
          "output_type": "display_data",
          "data": {
            "text/plain": [
              "<Figure size 630x270 with 1 Axes>"
            ],
            "image/png": "[encoded data removed]"
          },
          "metadata": {}
        }
      ]
    },
    {
      "cell_type": "code",
      "source": [
        "# Find out how bike hires were distibuted throughout the year\n",
        "ride_hires_per_month = (\n",
        "    clean_df[\"month\"]\n",
        "    .value_counts(sort=False)\n",
        "    .rename_axis(\"Month\")\n",
        "    .reset_index(name=\"Total Hires\")\n",
        ")"
      ],
      "metadata": {
        "id": "bc-TICiObSkb"
      },
      "execution_count": null,
      "outputs": []
    },
    {
      "cell_type": "code",
      "source": [
        "months = [\n",
        "    \"Jan\",\n",
        "    \"Feb\",\n",
        "    \"Mar\",\n",
        "    \"Apr\",\n",
        "    \"May\",\n",
        "    \"Jun\",\n",
        "    \"Jul\",\n",
        "    \"Aug\",\n",
        "    \"Sep\",\n",
        "    \"Oct\",\n",
        "    \"Nov\",\n",
        "    \"Dec\",\n",
        "]\n",
        "print(ride_hires_per_month)"
      ],
      "metadata": {
        "colab": {
          "base_uri": "https://localhost:8080/"
        },
        "id": "6ewhYevHbVPq",
        "outputId": "e6e4831c-8d8a-464c-d5fd-7e5cfe3daa39"
      },
      "execution_count": null,
      "outputs": [
        {
          "output_type": "stream",
          "name": "stdout",
          "text": [
            "    Month  Total Hires\n",
            "0       5       450951\n",
            "1       4       298199\n",
            "2       3       205687\n",
            "3       2        42994\n",
            "4       1        83508\n",
            "5      12       113539\n",
            "6      11       205908\n",
            "7      10       213843\n",
            "8       9       261416\n",
            "9       8       276877\n",
            "10      7       312165\n",
            "11      6       342040\n"
          ]
        }
      ]
    },
    {
      "cell_type": "code",
      "source": [
        "plt.figure(figsize=(7, 3), dpi=90)\n",
        "plt.title(\"Total Bike Hires per Month\", loc=\"left\", pad=14)\n",
        "sns.barplot(data=ride_hires_per_month, x=months, y=\"Total Hires\")\n",
        "plt.show()"
      ],
      "metadata": {
        "colab": {
          "base_uri": "https://localhost:8080/",
          "height": 294
        },
        "id": "K_Puz_SUbb_P",
        "outputId": "df6d2fd4-2991-4685-c06c-1e7c98883157"
      },
      "execution_count": null,
      "outputs": [
        {
          "output_type": "display_data",
          "data": {
            "text/plain": [
              "<Figure size 630x270 with 1 Axes>"
            ],
            "image/png": "[encoded data removed]"
          },
          "metadata": {}
        }
      ]
    },
    {
      "cell_type": "code",
      "source": [
        "# Find out what days of the week have the most bike hires\n",
        "ride_hires_per_day = (\n",
        "    clean_df[\"day_of_week\"]\n",
        "    .value_counts()\n",
        "    .rename_axis(\"Day\")\n",
        "    .reset_index(name=\"Total Hires\")\n",
        ")\n",
        "ride_hires_per_day.sort_values(by=[\"Total Hires\"], inplace=True, ascending=True)\n",
        "print(ride_hires_per_day)"
      ],
      "metadata": {
        "colab": {
          "base_uri": "https://localhost:8080/"
        },
        "id": "eVafik10bjZJ",
        "outputId": "62677e1c-bb85-4143-a93e-94d2e9234d3f"
      },
      "execution_count": null,
      "outputs": [
        {
          "output_type": "stream",
          "name": "stdout",
          "text": [
            "         Day  Total Hires\n",
            "6    Tuesday       351736\n",
            "5     Monday       353776\n",
            "4  Wednesday       360717\n",
            "3   Thursday       364617\n",
            "2     Friday       404976\n",
            "1     Sunday       448054\n",
            "0   Saturday       523251\n"
          ]
        }
      ]
    },
    {
      "cell_type": "code",
      "source": [
        "plt.figure(figsize=(7, 3), dpi=90)\n",
        "plt.title(\"Total Bike Hires per Day of the Week\", loc=\"left\", pad=14)\n",
        "sns.barplot(data=ride_hires_per_day, x=\"Day\", y=\"Total Hires\")\n",
        "plt.show()"
      ],
      "metadata": {
        "colab": {
          "base_uri": "https://localhost:8080/",
          "height": 312
        },
        "id": "2vyXAyLvbsg-",
        "outputId": "917beb2b-fc25-4d96-f24b-aabc472dbdc7"
      },
      "execution_count": null,
      "outputs": [
        {
          "output_type": "display_data",
          "data": {
            "text/plain": [
              "<Figure size 630x270 with 1 Axes>"
            ],
            "image/png": "[encoded data removed]"
          },
          "metadata": {}
        }
      ]
    },
    {
      "cell_type": "markdown",
      "source": [
        "# BIKE HIRES PER CATEGORY PER MONTH\n",
        "# Find out how ridership compares everymonth for the two rider categories"
      ],
      "metadata": {
        "id": "eG3FlZp3dQ_L"
      }
    },
    {
      "cell_type": "code",
      "source": [
        "\n",
        "monthly_bike_hires_per_customer_category = clean_df.groupby([\"member_casual\"])[\n",
        "    \"month_name\"\n",
        "].value_counts(sort=True)"
      ],
      "metadata": {
        "id": "0xccE_Bhb0g_"
      },
      "execution_count": null,
      "outputs": []
    },
    {
      "cell_type": "code",
      "source": [
        "monthly_casual_member_df = pd.DataFrame()\n",
        "monthly_casual_member_df[\"casual\"] = monthly_bike_hires_per_customer_category[\"casual\"]\n",
        "monthly_casual_member_df[\"member\"] = monthly_bike_hires_per_customer_category[\"member\"]\n",
        "monthly_casual_member_df[\"Month\"] = monthly_casual_member_df.index"
      ],
      "metadata": {
        "id": "HwTMcU78b-Gn"
      },
      "execution_count": null,
      "outputs": []
    },
    {
      "cell_type": "code",
      "source": [
        "print(monthly_casual_member_df)"
      ],
      "metadata": {
        "colab": {
          "base_uri": "https://localhost:8080/"
        },
        "id": "gfG3UQi6cLGO",
        "outputId": "a77a64b1-fe24-4d9c-89ad-6465c2b9f80e"
      },
      "execution_count": null,
      "outputs": [
        {
          "output_type": "stream",
          "name": "stdout",
          "text": [
            "            casual  member Month\n",
            "month_name                      \n",
            "May         216796  234155   May\n",
            "Jun         154329  187711   Jun\n",
            "Jul         152354  159811   Jul\n",
            "Aug         135368  141509   Aug\n",
            "Apr         120418  177781   Apr\n",
            "Sep         116108  145308   Sep\n",
            "Oct          89459  124384   Oct\n",
            "Mar          75641  130046   Mar\n",
            "Nov          69200  136708   Nov\n",
            "Dec          24492   89047   Dec\n",
            "Jan          14690   68818   Jan\n",
            "Feb           8613   34381   Feb\n"
          ]
        }
      ]
    },
    {
      "cell_type": "code",
      "source": [
        "pos = list(range(len(monthly_casual_member_df[\"casual\"])))\n",
        "width = 0.25"
      ],
      "metadata": {
        "id": "_88cLE6ScTgv"
      },
      "execution_count": null,
      "outputs": []
    },
    {
      "cell_type": "code",
      "source": [
        "fig, ax = plt.subplots(figsize=(7, 3), dpi=90)"
      ],
      "metadata": {
        "colab": {
          "base_uri": "https://localhost:8080/",
          "height": 269
        },
        "id": "0E7xi33FcXvq",
        "outputId": "99702d0e-855d-4720-ed04-610f7b073a37"
      },
      "execution_count": null,
      "outputs": [
        {
          "output_type": "display_data",
          "data": {
            "text/plain": [
              "<Figure size 630x270 with 1 Axes>"
            ],
            "image/png": "[encoded data removed]"
          },
          "metadata": {}
        }
      ]
    },
    {
      "cell_type": "code",
      "source": [
        "plt.bar(pos, monthly_casual_member_df[\"casual\"], width)\n",
        "plt.bar([p + width for p in pos], monthly_casual_member_df[\"member\"], width)"
      ],
      "metadata": {
        "colab": {
          "base_uri": "https://localhost:8080/",
          "height": 448
        },
        "id": "cKagsS4bcoBH",
        "outputId": "18c3a5ac-153e-4e42-9593-89aa97fa30dc"
      },
      "execution_count": null,
      "outputs": [
        {
          "output_type": "execute_result",
          "data": {
            "text/plain": [
              "<BarContainer object of 12 artists>"
            ]
          },
          "metadata": {},
          "execution_count": 49
        },
        {
          "output_type": "display_data",
          "data": {
            "text/plain": [
              "<Figure size 640x480 with 1 Axes>"
            ],
            "image/png": "[encoded data removed]"
          },
          "metadata": {}
        }
      ]
    },
    {
      "cell_type": "code",
      "source": [
        "# Setting the y and x axis label\n",
        "ax.set_ylabel(\"Total Hires\")\n",
        "ax.set_xlabel(\"Month\")\n",
        "# Setting the chart's title\n",
        "ax.set_title(\"Total Bike Hires per Rider Category per Month\", loc=\"left\", pad=14)"
      ],
      "metadata": {
        "colab": {
          "base_uri": "https://localhost:8080/"
        },
        "id": "8zWq-xAkcqa8",
        "outputId": "0b37baa3-de08-4262-a8de-4603b4af7bcc"
      },
      "execution_count": null,
      "outputs": [
        {
          "output_type": "execute_result",
          "data": {
            "text/plain": [
              "Text(0.0, 1.0, 'Total Bike Hires per Rider Category per Month')"
            ]
          },
          "metadata": {},
          "execution_count": 50
        }
      ]
    },
    {
      "cell_type": "code",
      "source": [
        "# Setting the position of the x ticks\n",
        "ax.set_xticks([p + 1.5 * width for p in pos])"
      ],
      "metadata": {
        "colab": {
          "base_uri": "https://localhost:8080/"
        },
        "id": "Az3bJc9Ic0Nb",
        "outputId": "0bcc03a4-dcbf-45b0-850e-51e3df39cdfa"
      },
      "execution_count": null,
      "outputs": [
        {
          "output_type": "execute_result",
          "data": {
            "text/plain": [
              "[<matplotlib.axis.XTick at 0x7f87ce7da290>,\n",
              " <matplotlib.axis.XTick at 0x7f87ce7da260>,\n",
              " <matplotlib.axis.XTick at 0x7f87ce89a290>,\n",
              " <matplotlib.axis.XTick at 0x7f87ce7fa560>,\n",
              " <matplotlib.axis.XTick at 0x7f87ce7fb010>,\n",
              " <matplotlib.axis.XTick at 0x7f87ce7fbac0>,\n",
              " <matplotlib.axis.XTick at 0x7f87ce7da170>,\n",
              " <matplotlib.axis.XTick at 0x7f87ce681e70>,\n",
              " <matplotlib.axis.XTick at 0x7f87ce826ce0>,\n",
              " <matplotlib.axis.XTick at 0x7f87ce682e30>,\n",
              " <matplotlib.axis.XTick at 0x7f87ce6838e0>,\n",
              " <matplotlib.axis.XTick at 0x7f87ce6a03d0>]"
            ]
          },
          "metadata": {},
          "execution_count": 51
        }
      ]
    },
    {
      "cell_type": "code",
      "source": [
        "# Setting the labels for the x ticks\n",
        "ax.set_xticklabels(monthly_casual_member_df[\"Month\"])"
      ],
      "metadata": {
        "colab": {
          "base_uri": "https://localhost:8080/"
        },
        "id": "c_U5WC-5c2Fg",
        "outputId": "2627f05c-5e7b-4d53-f640-5e9a301a61b2"
      },
      "execution_count": null,
      "outputs": [
        {
          "output_type": "execute_result",
          "data": {
            "text/plain": [
              "[Text(0.375, 0, 'May'),\n",
              " Text(1.375, 0, 'Jun'),\n",
              " Text(2.375, 0, 'Jul'),\n",
              " Text(3.375, 0, 'Aug'),\n",
              " Text(4.375, 0, 'Apr'),\n",
              " Text(5.375, 0, 'Sep'),\n",
              " Text(6.375, 0, 'Oct'),\n",
              " Text(7.375, 0, 'Mar'),\n",
              " Text(8.375, 0, 'Nov'),\n",
              " Text(9.375, 0, 'Dec'),\n",
              " Text(10.375, 0, 'Jan'),\n",
              " Text(11.375, 0, 'Feb')]"
            ]
          },
          "metadata": {},
          "execution_count": 52
        }
      ]
    },
    {
      "cell_type": "code",
      "source": [
        "# Adding the legend and showing the plot\n",
        "plt.legend([\"Casual\", \"Member\"], loc=\"upper right\")\n",
        "plt.show()"
      ],
      "metadata": {
        "colab": {
          "base_uri": "https://localhost:8080/",
          "height": 435
        },
        "id": "blaf1RQ0c8CW",
        "outputId": "9d501303-32be-48ca-97ab-34666627d7ac"
      },
      "execution_count": null,
      "outputs": [
        {
          "output_type": "display_data",
          "data": {
            "text/plain": [
              "<Figure size 640x480 with 1 Axes>"
            ],
            "image/png": "[encoded data removed]"
          },
          "metadata": {}
        }
      ]
    },
    {
      "cell_type": "markdown",
      "source": [
        "\n",
        "# BIKE HIRES PER CATEGORY PER DAY\n",
        "# Find out how ridership compares everyday for the two rider categories"
      ],
      "metadata": {
        "id": "scy0G4zJdJyE"
      }
    },
    {
      "cell_type": "code",
      "source": [
        "bike_hires_per_customer_category = clean_df.groupby([\"member_casual\"])[\n",
        "    \"day_of_week\"\n",
        "].value_counts(sort=True)\n",
        "print(bike_hires_per_customer_category)"
      ],
      "metadata": {
        "colab": {
          "base_uri": "https://localhost:8080/"
        },
        "id": "tOLzCWJndLvj",
        "outputId": "d1692cf5-2ac0-489b-b19b-ad4a7a08a420"
      },
      "execution_count": null,
      "outputs": [
        {
          "output_type": "stream",
          "name": "stdout",
          "text": [
            "member_casual  day_of_week\n",
            "casual         Saturday       275048\n",
            "               Sunday         233079\n",
            "               Friday         165325\n",
            "               Monday         131496\n",
            "               Thursday       129326\n",
            "               Wednesday      122066\n",
            "               Tuesday        121128\n",
            "member         Saturday       248203\n",
            "               Friday         239651\n",
            "               Wednesday      238651\n",
            "               Thursday       235291\n",
            "               Tuesday        230608\n",
            "               Monday         222280\n",
            "               Sunday         214975\n",
            "Name: day_of_week, dtype: int64\n"
          ]
        }
      ]
    },
    {
      "cell_type": "code",
      "source": [
        "casual_member_df = pd.DataFrame()\n",
        "casual_member_df[\"casual\"] = bike_hires_per_customer_category[\"casual\"]\n",
        "casual_member_df[\"member\"] = bike_hires_per_customer_category[\"member\"]\n",
        "casual_member_df[\"Day\"] = casual_member_df.index"
      ],
      "metadata": {
        "id": "8fvq1bGqdXx-"
      },
      "execution_count": null,
      "outputs": []
    },
    {
      "cell_type": "code",
      "source": [
        "print(casual_member_df)"
      ],
      "metadata": {
        "colab": {
          "base_uri": "https://localhost:8080/"
        },
        "id": "PdNkDKp0db6B",
        "outputId": "85539ebb-3c2d-42c3-c79a-d86ff816bddf"
      },
      "execution_count": null,
      "outputs": [
        {
          "output_type": "stream",
          "name": "stdout",
          "text": [
            "             casual  member        Day\n",
            "day_of_week                           \n",
            "Saturday     275048  248203   Saturday\n",
            "Sunday       233079  214975     Sunday\n",
            "Friday       165325  239651     Friday\n",
            "Monday       131496  222280     Monday\n",
            "Thursday     129326  235291   Thursday\n",
            "Wednesday    122066  238651  Wednesday\n",
            "Tuesday      121128  230608    Tuesday\n"
          ]
        }
      ]
    },
    {
      "cell_type": "code",
      "source": [
        "pos = list(range(len(casual_member_df[\"casual\"])))\n",
        "width = 0.25"
      ],
      "metadata": {
        "id": "pn10FEMzdjTF"
      },
      "execution_count": null,
      "outputs": []
    },
    {
      "cell_type": "code",
      "source": [
        "fig, ax = plt.subplots(figsize=(7, 3), dpi=90)"
      ],
      "metadata": {
        "colab": {
          "base_uri": "https://localhost:8080/",
          "height": 269
        },
        "id": "V5hGTUW1dpFZ",
        "outputId": "f9c4634b-fe7d-4d09-a60e-13154859e900"
      },
      "execution_count": null,
      "outputs": [
        {
          "output_type": "display_data",
          "data": {
            "text/plain": [
              "<Figure size 630x270 with 1 Axes>"
            ],
            "image/png": "[encoded data removed]"
          },
          "metadata": {}
        }
      ]
    },
    {
      "cell_type": "code",
      "source": [
        "plt.bar(pos, casual_member_df[\"casual\"], width)\n",
        "plt.bar([p + width for p in pos], casual_member_df[\"member\"], width)"
      ],
      "metadata": {
        "colab": {
          "base_uri": "https://localhost:8080/",
          "height": 448
        },
        "id": "aggYG_hYdzCI",
        "outputId": "995a3169-4fb5-446c-be63-4c71b0bd9c90"
      },
      "execution_count": null,
      "outputs": [
        {
          "output_type": "execute_result",
          "data": {
            "text/plain": [
              "<BarContainer object of 7 artists>"
            ]
          },
          "metadata": {},
          "execution_count": 62
        },
        {
          "output_type": "display_data",
          "data": {
            "text/plain": [
              "<Figure size 640x480 with 1 Axes>"
            ],
            "image/png": "[encoded data removed]"
          },
          "metadata": {}
        }
      ]
    },
    {
      "cell_type": "code",
      "source": [
        "# Setting the y and x axis label\n",
        "ax.set_ylabel(\"Total Hires\")\n",
        "ax.set_xlabel(\"Day of the Week\")\n",
        "# Setting the chart's title\n",
        "ax.set_title(\"Total Bike Hires per Rider Category per Day\", loc=\"left\", pad=14)"
      ],
      "metadata": {
        "colab": {
          "base_uri": "https://localhost:8080/"
        },
        "id": "gGSgYdgQdqxh",
        "outputId": "a98f650e-f38b-42aa-fa6d-a9192b544bea"
      },
      "execution_count": null,
      "outputs": [
        {
          "output_type": "execute_result",
          "data": {
            "text/plain": [
              "Text(0.0, 1.0, 'Total Bike Hires per Rider Category per Day')"
            ]
          },
          "metadata": {},
          "execution_count": 63
        }
      ]
    },
    {
      "cell_type": "code",
      "source": [
        "# Setting the position of the x ticks\n",
        "ax.set_xticks([p + 1.5 * width for p in pos])"
      ],
      "metadata": {
        "colab": {
          "base_uri": "https://localhost:8080/"
        },
        "id": "qfz9zdJqd8V0",
        "outputId": "1b6ed965-e68f-46a4-c4a8-770293fe703b"
      },
      "execution_count": null,
      "outputs": [
        {
          "output_type": "execute_result",
          "data": {
            "text/plain": [
              "[<matplotlib.axis.XTick at 0x7f87ce4549a0>,\n",
              " <matplotlib.axis.XTick at 0x7f87ce454850>,\n",
              " <matplotlib.axis.XTick at 0x7f87ce62dc30>,\n",
              " <matplotlib.axis.XTick at 0x7f87ce47d180>,\n",
              " <matplotlib.axis.XTick at 0x7f87ce47dc30>,\n",
              " <matplotlib.axis.XTick at 0x7f87ce47e6e0>,\n",
              " <matplotlib.axis.XTick at 0x7f87ce454eb0>]"
            ]
          },
          "metadata": {},
          "execution_count": 64
        }
      ]
    },
    {
      "cell_type": "code",
      "source": [
        "# Setting the labels for the x ticks\n",
        "ax.set_xticklabels(casual_member_df[\"Day\"])"
      ],
      "metadata": {
        "colab": {
          "base_uri": "https://localhost:8080/"
        },
        "id": "YnYuaZkreATM",
        "outputId": "1fbbb5c5-905b-4c6c-a2ca-15347eb6fcb4"
      },
      "execution_count": null,
      "outputs": [
        {
          "output_type": "execute_result",
          "data": {
            "text/plain": [
              "[Text(0.375, 0, 'Saturday'),\n",
              " Text(1.375, 0, 'Sunday'),\n",
              " Text(2.375, 0, 'Friday'),\n",
              " Text(3.375, 0, 'Monday'),\n",
              " Text(4.375, 0, 'Thursday'),\n",
              " Text(5.375, 0, 'Wednesday'),\n",
              " Text(6.375, 0, 'Tuesday')]"
            ]
          },
          "metadata": {},
          "execution_count": 65
        }
      ]
    },
    {
      "cell_type": "code",
      "source": [
        "# Adding the legend and showing the plot\n",
        "plt.legend([\"Casual\", \"Member\"], loc=\"upper right\")\n",
        "plt.show()"
      ],
      "metadata": {
        "colab": {
          "base_uri": "https://localhost:8080/",
          "height": 435
        },
        "id": "OaYQjN-CeF31",
        "outputId": "a4b74f4d-18b8-471c-fb0d-526302f65191"
      },
      "execution_count": null,
      "outputs": [
        {
          "output_type": "display_data",
          "data": {
            "text/plain": [
              "<Figure size 640x480 with 1 Axes>"
            ],
            "image/png": "[encoded data removed]"
          },
          "metadata": {}
        }
      ]
    },
    {
      "cell_type": "code",
      "source": [
        "# AVERAGE RIDE LENGTH PER CATEGORY\n",
        "average_ride_length = clean_df.groupby([\"member_casual\"])[\"ride_length\"].mean()\n",
        "print(f\"The average ride length per category {average_ride_length}\")"
      ],
      "metadata": {
        "colab": {
          "base_uri": "https://localhost:8080/"
        },
        "id": "q5VrSMo8eKHP",
        "outputId": "5619a35b-4a21-4ffb-ba09-6e25a868a06f"
      },
      "execution_count": null,
      "outputs": [
        {
          "output_type": "stream",
          "name": "stdout",
          "text": [
            "The average ride length per category member_casual\n",
            "casual    41.433866\n",
            "member    15.087977\n",
            "Name: ride_length, dtype: float64\n"
          ]
        }
      ]
    },
    {
      "cell_type": "code",
      "source": [
        "fig, ax = plt.subplots(figsize=(7, 3), dpi=90)\n",
        "labels = [\"Casual\", \"Member\"]\n",
        "plt.pie(x=average_ride_length, autopct=\"%.1f%%\", labels=labels)\n",
        "ax.set_title(\"Average Ride Length\", pad=14, loc=\"center\")\n",
        "plt.show()"
      ],
      "metadata": {
        "colab": {
          "base_uri": "https://localhost:8080/",
          "height": 272
        },
        "id": "E0tZc4lCePoG",
        "outputId": "9548ec24-27dc-4131-d913-c5d16fe82437"
      },
      "execution_count": null,
      "outputs": [
        {
          "output_type": "display_data",
          "data": {
            "text/plain": [
              "<Figure size 630x270 with 1 Axes>"
            ],
            "image/png": "[encoded data removed]"
          },
          "metadata": {}
        }
      ]
    },
    {
      "cell_type": "markdown",
      "source": [
        "# AVERAGE RIDE LENGTH FOR RIDERS BY DAY OF THE WEEK"
      ],
      "metadata": {
        "id": "3aMuWSHKeX9z"
      }
    },
    {
      "cell_type": "code",
      "source": [
        "average_daily_ride_length = clean_df.groupby([\"member_casual\", \"day_of_week\"])[\n",
        "    \"ride_length\"\n",
        "].mean()\n",
        "print(f\"Average ride lenth per category per day {average_daily_ride_length}\")"
      ],
      "metadata": {
        "colab": {
          "base_uri": "https://localhost:8080/"
        },
        "id": "e767Js6DeTy7",
        "outputId": "1c961cc1-9111-4edb-d4c6-a9212b17ff07"
      },
      "execution_count": null,
      "outputs": [
        {
          "output_type": "stream",
          "name": "stdout",
          "text": [
            "Average ride lenth per category per day member_casual  day_of_week\n",
            "casual         Friday         39.353269\n",
            "               Monday         40.921048\n",
            "               Saturday       42.812270\n",
            "               Sunday         47.426108\n",
            "               Thursday       38.774720\n",
            "               Tuesday        37.630780\n",
            "               Wednesday      36.847590\n",
            "member         Friday         14.683992\n",
            "               Monday         14.301764\n",
            "               Saturday       16.579240\n",
            "               Sunday         17.223384\n",
            "               Thursday       14.306163\n",
            "               Tuesday        14.171906\n",
            "               Wednesday      14.407429\n",
            "Name: ride_length, dtype: float64\n"
          ]
        }
      ]
    },
    {
      "cell_type": "code",
      "source": [
        "weekly_average_ride_length_df = pd.DataFrame()"
      ],
      "metadata": {
        "id": "dfutSx29eeCp"
      },
      "execution_count": null,
      "outputs": []
    },
    {
      "cell_type": "code",
      "source": [
        "weekly_average_ride_length_df[\"casual\"] = average_daily_ride_length[\"casual\"]\n",
        "weekly_average_ride_length_df[\"member\"] = average_daily_ride_length[\"member\"]\n",
        "weekly_average_ride_length_df[\"Day\"] = weekly_average_ride_length_df.index"
      ],
      "metadata": {
        "id": "3je7LmzDel9F"
      },
      "execution_count": null,
      "outputs": []
    },
    {
      "cell_type": "code",
      "source": [
        "print(weekly_average_ride_length_df)"
      ],
      "metadata": {
        "colab": {
          "base_uri": "https://localhost:8080/"
        },
        "id": "BbXfumA7epuv",
        "outputId": "ec851655-c4eb-4eb9-a989-8b00d847d3fe"
      },
      "execution_count": null,
      "outputs": [
        {
          "output_type": "stream",
          "name": "stdout",
          "text": [
            "                casual     member        Day\n",
            "day_of_week                                 \n",
            "Friday       39.353269  14.683992     Friday\n",
            "Monday       40.921048  14.301764     Monday\n",
            "Saturday     42.812270  16.579240   Saturday\n",
            "Sunday       47.426108  17.223384     Sunday\n",
            "Thursday     38.774720  14.306163   Thursday\n",
            "Tuesday      37.630780  14.171906    Tuesday\n",
            "Wednesday    36.847590  14.407429  Wednesday\n"
          ]
        }
      ]
    },
    {
      "cell_type": "code",
      "source": [
        "pos = list(range(len(weekly_average_ride_length_df[\"casual\"])))\n",
        "width = 0.25"
      ],
      "metadata": {
        "id": "GskNo6-uewAC"
      },
      "execution_count": null,
      "outputs": []
    },
    {
      "cell_type": "code",
      "source": [
        "fig, ax = plt.subplots(figsize=(7, 3), dpi=90)"
      ],
      "metadata": {
        "colab": {
          "base_uri": "https://localhost:8080/",
          "height": 269
        },
        "id": "qMimZvlvexyQ",
        "outputId": "9c275e9f-937d-4cf8-803e-f3a8d4bcc4f6"
      },
      "execution_count": null,
      "outputs": [
        {
          "output_type": "display_data",
          "data": {
            "text/plain": [
              "<Figure size 630x270 with 1 Axes>"
            ],
            "image/png": "[encoded data removed]"
          },
          "metadata": {}
        }
      ]
    },
    {
      "cell_type": "code",
      "source": [
        "plt.bar(pos, weekly_average_ride_length_df[\"casual\"], width)\n",
        "plt.bar([p + width for p in pos], weekly_average_ride_length_df[\"member\"], width)"
      ],
      "metadata": {
        "colab": {
          "base_uri": "https://localhost:8080/",
          "height": 448
        },
        "id": "m2BH9T6Ie1Yx",
        "outputId": "778ee181-555b-425b-ed84-2c9aeb441e10"
      },
      "execution_count": null,
      "outputs": [
        {
          "output_type": "execute_result",
          "data": {
            "text/plain": [
              "<BarContainer object of 7 artists>"
            ]
          },
          "metadata": {},
          "execution_count": 75
        },
        {
          "output_type": "display_data",
          "data": {
            "text/plain": [
              "<Figure size 640x480 with 1 Axes>"
            ],
            "image/png": "[encoded data removed]"
          },
          "metadata": {}
        }
      ]
    },
    {
      "cell_type": "code",
      "source": [
        "# Setting the y and x axis label\n",
        "ax.set_ylabel(\"Average Ride Length\")\n",
        "ax.set_xlabel(\"Day of the Week\")\n",
        "# Setting the chart's title\n",
        "ax.set_title(\"Average Ride Length per Rider Category per Day\", loc=\"left\", pad=14)"
      ],
      "metadata": {
        "colab": {
          "base_uri": "https://localhost:8080/"
        },
        "id": "xesmUXr-e6SS",
        "outputId": "34eefb43-9c9d-41cb-c16d-c55547e91355"
      },
      "execution_count": null,
      "outputs": [
        {
          "output_type": "execute_result",
          "data": {
            "text/plain": [
              "Text(0.0, 1.0, 'Average Ride Length per Rider Category per Day')"
            ]
          },
          "metadata": {},
          "execution_count": 76
        }
      ]
    },
    {
      "cell_type": "code",
      "source": [
        "# Setting the position of the x ticks\n",
        "ax.set_xticks([p + 1.5 * width for p in pos])"
      ],
      "metadata": {
        "colab": {
          "base_uri": "https://localhost:8080/"
        },
        "id": "67W1dWhkfCZu",
        "outputId": "ffb635a8-d4b1-449d-b1d2-0ce920b68e36"
      },
      "execution_count": null,
      "outputs": [
        {
          "output_type": "execute_result",
          "data": {
            "text/plain": [
              "[<matplotlib.axis.XTick at 0x7f87ce3f6590>,\n",
              " <matplotlib.axis.XTick at 0x7f87ce3f6560>,\n",
              " <matplotlib.axis.XTick at 0x7f87ce3f4820>,\n",
              " <matplotlib.axis.XTick at 0x7f87ce3f5510>,\n",
              " <matplotlib.axis.XTick at 0x7f87ce4192a0>,\n",
              " <matplotlib.axis.XTick at 0x7f87ce41b4f0>,\n",
              " <matplotlib.axis.XTick at 0x7f87ce3f6470>]"
            ]
          },
          "metadata": {},
          "execution_count": 77
        }
      ]
    },
    {
      "cell_type": "code",
      "source": [
        "# Setting the labels for the x ticks\n",
        "ax.set_xticklabels(weekly_average_ride_length_df[\"Day\"])"
      ],
      "metadata": {
        "colab": {
          "base_uri": "https://localhost:8080/"
        },
        "id": "x3y4GIEgfE-P",
        "outputId": "a7b3ef56-b1b8-4932-e3bb-7097a5c1cedc"
      },
      "execution_count": null,
      "outputs": [
        {
          "output_type": "execute_result",
          "data": {
            "text/plain": [
              "[Text(0.375, 0, 'Friday'),\n",
              " Text(1.375, 0, 'Monday'),\n",
              " Text(2.375, 0, 'Saturday'),\n",
              " Text(3.375, 0, 'Sunday'),\n",
              " Text(4.375, 0, 'Thursday'),\n",
              " Text(5.375, 0, 'Tuesday'),\n",
              " Text(6.375, 0, 'Wednesday')]"
            ]
          },
          "metadata": {},
          "execution_count": 78
        }
      ]
    },
    {
      "cell_type": "code",
      "source": [
        "# Adding the legend and showing the plot\n",
        "plt.legend([\"Casual\", \"Member\"], loc=\"upper right\")\n",
        "plt.show()"
      ],
      "metadata": {
        "colab": {
          "base_uri": "https://localhost:8080/",
          "height": 435
        },
        "id": "cbHLECI_fLlp",
        "outputId": "9f01d343-717d-42be-c033-6b3aefd3b7ac"
      },
      "execution_count": null,
      "outputs": [
        {
          "output_type": "display_data",
          "data": {
            "text/plain": [
              "<Figure size 640x480 with 1 Axes>"
            ],
            "image/png": "[encoded data removed]"
          },
          "metadata": {}
        }
      ]
    },
    {
      "cell_type": "markdown",
      "source": [
        "# AVERAGE RIDE LENGTH FOR RIDERS BY MONTH"
      ],
      "metadata": {
        "id": "eDWLQxJ7fR7B"
      }
    },
    {
      "cell_type": "code",
      "source": [
        "average_daily_ride_length_per_month = clean_df.groupby([\"member_casual\", \"month\"])[\n",
        "    \"ride_length\"\n",
        "].mean()\n",
        "print(f\"Average ride lenth per category per day {average_daily_ride_length_per_month}\")"
      ],
      "metadata": {
        "colab": {
          "base_uri": "https://localhost:8080/"
        },
        "id": "zHw74tOCfN8h",
        "outputId": "7d7dd730-0d66-4b72-eb0a-8d3d4d3565e9"
      },
      "execution_count": null,
      "outputs": [
        {
          "output_type": "stream",
          "name": "stdout",
          "text": [
            "Average ride lenth per category per day member_casual  month\n",
            "casual         1        26.369980\n",
            "               2        47.137136\n",
            "               3        38.480475\n",
            "               4        38.441720\n",
            "               5        37.425277\n",
            "               6        51.233166\n",
            "               7        59.328395\n",
            "               8        40.742401\n",
            "               9        37.331759\n",
            "               10       28.548463\n",
            "               11       33.445446\n",
            "               12       27.621278\n",
            "member         1        12.031133\n",
            "               2        14.781198\n",
            "               3        13.665306\n",
            "               4        14.263098\n",
            "               5        14.344059\n",
            "               6        18.540866\n",
            "               7        17.618356\n",
            "               8        16.810500\n",
            "               9        15.368996\n",
            "               10       13.909278\n",
            "               11       13.480941\n",
            "               12       12.347370\n",
            "Name: ride_length, dtype: float64\n"
          ]
        }
      ]
    },
    {
      "cell_type": "code",
      "source": [
        "monthly_average_ride_length_df = pd.DataFrame()"
      ],
      "metadata": {
        "id": "m8ACajcIfZx1"
      },
      "execution_count": null,
      "outputs": []
    },
    {
      "cell_type": "code",
      "source": [
        "monthly_average_ride_length_df[\"casual\"] = average_daily_ride_length_per_month[\"casual\"]\n",
        "monthly_average_ride_length_df[\"member\"] = average_daily_ride_length_per_month[\"member\"]\n",
        "monthly_average_ride_length_df[\"month\"] = monthly_average_ride_length_df.index"
      ],
      "metadata": {
        "id": "rDTFIAqOfdqI"
      },
      "execution_count": null,
      "outputs": []
    },
    {
      "cell_type": "code",
      "source": [
        "print(monthly_average_ride_length_df)"
      ],
      "metadata": {
        "colab": {
          "base_uri": "https://localhost:8080/"
        },
        "id": "a53gANeSfhaP",
        "outputId": "0aa11765-fe1a-4a3c-fc3e-5c96cb20862d"
      },
      "execution_count": null,
      "outputs": [
        {
          "output_type": "stream",
          "name": "stdout",
          "text": [
            "          casual     member  month\n",
            "month                             \n",
            "1      26.369980  12.031133      1\n",
            "2      47.137136  14.781198      2\n",
            "3      38.480475  13.665306      3\n",
            "4      38.441720  14.263098      4\n",
            "5      37.425277  14.344059      5\n",
            "6      51.233166  18.540866      6\n",
            "7      59.328395  17.618356      7\n",
            "8      40.742401  16.810500      8\n",
            "9      37.331759  15.368996      9\n",
            "10     28.548463  13.909278     10\n",
            "11     33.445446  13.480941     11\n",
            "12     27.621278  12.347370     12\n"
          ]
        }
      ]
    },
    {
      "cell_type": "code",
      "source": [
        "pos = list(range(len(monthly_average_ride_length_df[\"casual\"])))\n",
        "width = 0.25"
      ],
      "metadata": {
        "id": "385Op77zfmF4"
      },
      "execution_count": null,
      "outputs": []
    },
    {
      "cell_type": "code",
      "source": [
        "fig, ax = plt.subplots(figsize=(7, 3), dpi=90)"
      ],
      "metadata": {
        "colab": {
          "base_uri": "https://localhost:8080/",
          "height": 269
        },
        "id": "ImiQpc8hfqxN",
        "outputId": "f67e6b86-1f4a-4fe2-c766-bbef06dd5c92"
      },
      "execution_count": null,
      "outputs": [
        {
          "output_type": "display_data",
          "data": {
            "text/plain": [
              "<Figure size 630x270 with 1 Axes>"
            ],
            "image/png": "[encoded data removed]"
          },
          "metadata": {}
        }
      ]
    },
    {
      "cell_type": "code",
      "source": [
        "plt.bar(pos, monthly_average_ride_length_df[\"casual\"], width)\n",
        "plt.bar([p + width for p in pos], monthly_average_ride_length_df[\"member\"], width)"
      ],
      "metadata": {
        "colab": {
          "base_uri": "https://localhost:8080/",
          "height": 448
        },
        "id": "diJifBC_fvKo",
        "outputId": "9d8e4def-402c-4398-9bcb-ea464adbf306"
      },
      "execution_count": null,
      "outputs": [
        {
          "output_type": "execute_result",
          "data": {
            "text/plain": [
              "<BarContainer object of 12 artists>"
            ]
          },
          "metadata": {},
          "execution_count": 86
        },
        {
          "output_type": "display_data",
          "data": {
            "text/plain": [
              "<Figure size 640x480 with 1 Axes>"
            ],
            "image/png": "[encoded data removed]"
          },
          "metadata": {}
        }
      ]
    },
    {
      "cell_type": "code",
      "source": [
        "# Setting the y and x axis label\n",
        "ax.set_ylabel(\"Average Ride Length\")\n",
        "ax.set_xlabel(\"Month\")\n",
        "# Setting the chart's title\n",
        "ax.set_title(\"Average Ride Length per Rider Category per Month\", loc=\"left\", pad=14)"
      ],
      "metadata": {
        "colab": {
          "base_uri": "https://localhost:8080/"
        },
        "id": "WfCj7-Jqfz54",
        "outputId": "1d314411-d122-416d-cf07-7038c1a14112"
      },
      "execution_count": null,
      "outputs": [
        {
          "output_type": "execute_result",
          "data": {
            "text/plain": [
              "Text(0.0, 1.0, 'Average Ride Length per Rider Category per Month')"
            ]
          },
          "metadata": {},
          "execution_count": 87
        }
      ]
    },
    {
      "cell_type": "code",
      "source": [
        "# Setting the position of the x ticks\n",
        "ax.set_xticks([p + 1.5 * width for p in pos])"
      ],
      "metadata": {
        "colab": {
          "base_uri": "https://localhost:8080/"
        },
        "id": "35onk-gRf4aH",
        "outputId": "c8034f6f-c673-4621-bc0c-c6cb44f77e13"
      },
      "execution_count": null,
      "outputs": [
        {
          "output_type": "execute_result",
          "data": {
            "text/plain": [
              "[<matplotlib.axis.XTick at 0x7f87ce2f7a60>,\n",
              " <matplotlib.axis.XTick at 0x7f87ce2f7a30>,\n",
              " <matplotlib.axis.XTick at 0x7f87ce2f7040>,\n",
              " <matplotlib.axis.XTick at 0x7f87ce2f6ce0>,\n",
              " <matplotlib.axis.XTick at 0x7f87ce1544f0>,\n",
              " <matplotlib.axis.XTick at 0x7f87ce154cd0>,\n",
              " <matplotlib.axis.XTick at 0x7f87ce2f7940>,\n",
              " <matplotlib.axis.XTick at 0x7f87ce2cbdc0>,\n",
              " <matplotlib.axis.XTick at 0x7f87ce27f4c0>,\n",
              " <matplotlib.axis.XTick at 0x7f87ce2af850>,\n",
              " <matplotlib.axis.XTick at 0x7f87ce2ca200>,\n",
              " <matplotlib.axis.XTick at 0x7f87ce2adc00>]"
            ]
          },
          "metadata": {},
          "execution_count": 88
        }
      ]
    },
    {
      "cell_type": "code",
      "source": [
        "# Setting the labels for the x ticks\n",
        "ax.set_xticklabels(months)"
      ],
      "metadata": {
        "colab": {
          "base_uri": "https://localhost:8080/"
        },
        "id": "Q4SS6eP3f_D4",
        "outputId": "65205d30-6b20-42a6-998a-7015ff5972f8"
      },
      "execution_count": null,
      "outputs": [
        {
          "output_type": "execute_result",
          "data": {
            "text/plain": [
              "[Text(0.375, 0, 'Jan'),\n",
              " Text(1.375, 0, 'Feb'),\n",
              " Text(2.375, 0, 'Mar'),\n",
              " Text(3.375, 0, 'Apr'),\n",
              " Text(4.375, 0, 'May'),\n",
              " Text(5.375, 0, 'Jun'),\n",
              " Text(6.375, 0, 'Jul'),\n",
              " Text(7.375, 0, 'Aug'),\n",
              " Text(8.375, 0, 'Sep'),\n",
              " Text(9.375, 0, 'Oct'),\n",
              " Text(10.375, 0, 'Nov'),\n",
              " Text(11.375, 0, 'Dec')]"
            ]
          },
          "metadata": {},
          "execution_count": 89
        }
      ]
    },
    {
      "cell_type": "code",
      "source": [
        "# Adding the legend and showing the plot\n",
        "plt.legend([\"Casual\", \"Member\"], loc=\"upper right\")\n",
        "plt.show()"
      ],
      "metadata": {
        "colab": {
          "base_uri": "https://localhost:8080/",
          "height": 435
        },
        "id": "xXOhDKB_gE5Z",
        "outputId": "81e60fe8-9029-4d10-d5f8-2d8002e849ae"
      },
      "execution_count": null,
      "outputs": [
        {
          "output_type": "display_data",
          "data": {
            "text/plain": [
              "<Figure size 640x480 with 1 Axes>"
            ],
            "image/png": "[encoded data removed]"
          },
          "metadata": {}
        }
      ]
    },
    {
      "cell_type": "code",
      "source": [
        "# RIDEABLE TYPE PER RIDER CATEGORY\n",
        "type_of_bike = clean_df.groupby([\"member_casual\"])[\"rideable_type\"].value_counts()\n",
        "print(type_of_bike)"
      ],
      "metadata": {
        "colab": {
          "base_uri": "https://localhost:8080/"
        },
        "id": "BAeLKkhggKWC",
        "outputId": "083ed4b1-d80e-45cb-8b50-c9f7f05d9283"
      },
      "execution_count": null,
      "outputs": [
        {
          "output_type": "stream",
          "name": "stdout",
          "text": [
            "member_casual  rideable_type\n",
            "casual         docked_bike      687866\n",
            "               classic_bike     264398\n",
            "               electric_bike    225204\n",
            "member         docked_bike      786344\n",
            "               classic_bike     576650\n",
            "               electric_bike    266665\n",
            "Name: rideable_type, dtype: int64\n"
          ]
        }
      ]
    }
  ]
}